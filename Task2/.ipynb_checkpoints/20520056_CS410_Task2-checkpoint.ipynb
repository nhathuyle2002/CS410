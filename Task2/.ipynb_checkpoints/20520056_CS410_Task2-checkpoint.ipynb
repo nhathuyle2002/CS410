{
 "cells": [
  {
   "cell_type": "markdown",
   "metadata": {
    "id": "ygTit3SPa2OE"
   },
   "source": [
    "# Student information\n",
    "\n",
    "Full name: Huy Le Nhat\n",
    "\n",
    "Student_ID: 20520056\n",
    "\n",
    "Class: CS410.N11"
   ]
  },
  {
   "cell_type": "markdown",
   "metadata": {
    "id": "v6o-JciWbNdW"
   },
   "source": [
    "# Libraries and Functions"
   ]
  },
  {
   "cell_type": "code",
   "execution_count": 2,
   "metadata": {
    "id": "r__fmusqNNuu"
   },
   "outputs": [],
   "source": [
    "import numpy as np"
   ]
  },
  {
   "cell_type": "code",
   "execution_count": 25,
   "metadata": {
    "id": "cDw0uXxPNNuv"
   },
   "outputs": [],
   "source": [
    "def initialize_population(num_individuals, num_variables, random_seed=20520056):\n",
    "    # Đặt lại random_seed\n",
    "    np.random.seed(random_seed)\n",
    "    \n",
    "#     pop = np.random.randint(2, size=(num_individuals, num_variables))\n",
    "    pop = np.array([[]] * num_individuals, dtype=np.int_)\n",
    "    for idx in range(num_variables):\n",
    "        column = [x for x in range(2) for i in range(num_individuals//2)]\n",
    "        np.random.shuffle(column)\n",
    "        pop = np.hstack((pop, np.array([column]).T))\n",
    "\n",
    "    return pop"
   ]
  },
  {
   "cell_type": "code",
   "execution_count": 4,
   "metadata": {
    "id": "sexPh34MNNuw"
   },
   "outputs": [],
   "source": [
    "def onemax(ind):   \n",
    "    return np.sum(ind)  "
   ]
  },
  {
   "cell_type": "code",
   "execution_count": 5,
   "metadata": {},
   "outputs": [],
   "source": [
    "def trap5(ind):\n",
    "    num_parameters = len(ind)\n",
    "    k = 5\n",
    "    sum_f = 0\n",
    "    for id in range(0, num_parameters, k):\n",
    "        f_trap = sum(ind[id:min(id+k, num_parameters)])\n",
    "        if f_trap < k:\n",
    "            f_trap = k - f_trap\n",
    "        sum_f += f_trap\n",
    "    return sum_f"
   ]
  },
  {
   "cell_type": "code",
   "execution_count": 6,
   "metadata": {
    "id": "RWOJbcSCn3mz"
   },
   "outputs": [],
   "source": [
    "def truncation_selection(pop, pop_fitness, selection_size):\n",
    "    selected_indices = np.argsort(pop_fitness)[-selection_size:]\n",
    "    return selected_indices"
   ]
  },
  {
   "cell_type": "code",
   "execution_count": 7,
   "metadata": {
    "id": "WpVWWa3b6mgk"
   },
   "outputs": [],
   "source": [
    "def tournament_selection(pop, pop_fitness, selection_size, tournament_size=4):\n",
    "    num_individuals = len(pop)\n",
    "    indices = [idx for idx in range(num_individuals)]\n",
    "    selected_indices = []\n",
    "    for iter in range(selection_size):\n",
    "        ids = np.random.choice(indices, tournament_size)\n",
    "        ids_fitness = np.array(pop_fitness)[ids]\n",
    "        idx = ids[np.argmax(ids_fitness)]\n",
    "        selected_indices.append(idx)\n",
    "    return selected_indices\n",
    "\n",
    "    # num_individuals = len(pop)\n",
    "    # indices = [idx for idx in range(num_individuals)] * tournament_size\n",
    "    # np.random.shuffle(indices)\n",
    "    # selected_indices = []\n",
    "    # for iter in range(selection_size):\n",
    "    #     ids = indices[iter*tournament_size: (iter+1)*tournament_size]\n",
    "    #     ids_fitness = np.array(pop_fitness)[ids]\n",
    "    #     idx = ids[np.argmax(ids_fitness)]\n",
    "    #     selected_indices.append(idx)\n",
    "    # return selected_indices"
   ]
  },
  {
   "cell_type": "code",
   "execution_count": 8,
   "metadata": {
    "id": "KYtI5HO2NNuy"
   },
   "outputs": [],
   "source": [
    "def crossover(pop, crossover_type='UX'):\n",
    "    num_individuals = len(pop)\n",
    "    num_parameters = len(pop[0])\n",
    "    indices = np.arange(num_individuals)\n",
    "    # Đảo ngẫu nhiên thứ tự các cá thể trong quần thể\n",
    "    np.random.shuffle(indices)\n",
    "    offspring = []\n",
    "    \n",
    "    for i in range(0, num_individuals, 2):\n",
    "        idx1 = indices[i]\n",
    "        idx2 = indices[i+1]\n",
    "        offspring1 = list(pop[idx1])\n",
    "        offspring2 = list(pop[idx2])\n",
    "        \n",
    "        # Cài đặt phép lai đồng nhất uniform crossover. \n",
    "        # Không cần cài đặt đột biến mutation.\n",
    "        if crossover_type == 'UX':\n",
    "          for idx in range(0, num_parameters):\n",
    "              r = np.random.rand()\n",
    "              if r < 0.5:\n",
    "                  offspring1[idx], offspring2[idx] = offspring2[idx], offspring1[idx]\n",
    "\n",
    "        elif crossover_type == '1X':\n",
    "            crossover_pos = np.random.randint(num_parameters)\n",
    "            for idx in range(crossover_pos, num_parameters):\n",
    "                offspring1[idx], offspring2[idx] = offspring2[idx], offspring1[idx]\n",
    "\n",
    "        elif crossover_type == '2X':\n",
    "            crossover_pos1, crossover_pos2 = np.random.randint(num_parameters, size=2)\n",
    "            if crossover_pos1 > crossover_pos2:\n",
    "                crossover_pos1, crossover_pos2 = crossover_pos2, crossover_pos1\n",
    "            for idx in range(crossover_pos1, crossover_pos2):\n",
    "                offspring1[idx], offspring2[idx] = offspring2[idx], offspring1[idx]\n",
    "\n",
    "        offspring.append(offspring1)\n",
    "        offspring.append(offspring2)\n",
    "    \n",
    "    offspring = np.array(offspring)\n",
    "    return offspring"
   ]
  },
  {
   "cell_type": "code",
   "execution_count": 9,
   "metadata": {
    "id": "YPG8Ayu_yzwC"
   },
   "outputs": [],
   "source": [
    "def mutation(pop, mutation_prob):\n",
    "    num_individuals = len(pop)\n",
    "    num_parameters = len(pop[0])\n",
    "    for i in range(0, num_individuals):\n",
    "        for j in range(0, num_parameters):\n",
    "            r = np.random.rand()\n",
    "            if r < mutation_prob:\n",
    "                if pop[i][j] == 0:\n",
    "                    pop[i][j] = 1\n",
    "                else:\n",
    "                    pop[i][j] = 0\n",
    "    \n",
    "    return pop"
   ]
  },
  {
   "cell_type": "code",
   "execution_count": 10,
   "metadata": {
    "id": "s-tug82wvrIV"
   },
   "outputs": [],
   "source": [
    "def genetic_algorithm(num_individuals, num_parameters, num_generations, crossover_type='UX', fitness_function=onemax, enable_mutation=True, random_seed=20520056, details=True):\n",
    "    num_evaluations = 0\n",
    "    pop = initialize_population(num_individuals, num_parameters, random_seed)\n",
    "    pop_fitness = np.array([fitness_function(ind) for ind in pop])\n",
    "    num_evaluations += len(pop_fitness)\n",
    "    if details == True:\n",
    "        print('Original population:')\n",
    "        print(pop)\n",
    "        print(\"#Gen 0:\")\n",
    "        print(pop_fitness)\n",
    "    selection_size = num_individuals // 2\n",
    "    \n",
    "    for i in range(num_generations):\n",
    "        selected_indices = truncation_selection( pop, pop_fitness, selection_size )\n",
    "        selection_set = pop[selected_indices]\n",
    "        selection_fitness = pop_fitness[selected_indices]\n",
    "\n",
    "        offspring = crossover(selection_set, crossover_type)\n",
    "        if enable_mutation == True:\n",
    "            offspring = mutation(offspring, 0.05)\n",
    "        offspring_fitness = np.array([fitness_function(ind) for ind in offspring])\n",
    "        num_evaluations += len(offspring_fitness)\n",
    "\n",
    "        pop = np.vstack([selection_set, offspring])\n",
    "        pop_fitness = np.concatenate((selection_fitness, offspring_fitness))\n",
    "\n",
    "        if details == True:\n",
    "            print(f'#Gen {i+1}:')\n",
    "            print(pop_fitness)\n",
    "        if pop_fitness.max() == num_parameters:\n",
    "            break\n",
    "    \n",
    "    if details == True:\n",
    "        print('#Final result:')\n",
    "        print(pop)\n",
    "        print(pop_fitness)\n",
    "\n",
    "    if pop_fitness.max() == num_parameters:\n",
    "        return True, num_evaluations\n",
    "    else:\n",
    "        return False, num_evaluations\n"
   ]
  },
  {
   "cell_type": "code",
   "execution_count": 11,
   "metadata": {
    "id": "cwK1J2m1MdZl"
   },
   "outputs": [],
   "source": [
    "def genetic_algorithm_POPOP(num_individuals, num_parameters, num_generations, crossover_type='UX', fitness_function=onemax, tournament_size=4, enable_mutation=True, random_seed=20520056, details=True):\n",
    "    num_evaluations = 0\n",
    "    pop = initialize_population(num_individuals, num_parameters, random_seed)\n",
    "    pop_fitness = np.array([fitness_function(ind) for ind in pop])\n",
    "    num_evaluations += len(pop_fitness)\n",
    "    if details == True:\n",
    "        print('Original population:')\n",
    "        print(pop)\n",
    "        print(\"#Gen 0:\")\n",
    "        print(pop_fitness)\n",
    "    selection_size = num_individuals\n",
    "    \n",
    "    for i in range(num_generations):\n",
    "        offspring = crossover(pop, crossover_type)\n",
    "        if enable_mutation == True:\n",
    "            offspring = mutation(offspring, 0.05)\n",
    "        offspring_fitness = np.array([fitness_function(ind) for ind in offspring])\n",
    "        num_evaluations += len(offspring_fitness)\n",
    "\n",
    "        pop = np.vstack([pop, offspring])\n",
    "        pop_fitness = np.concatenate((pop_fitness, offspring_fitness))\n",
    "\n",
    "        selected_indices = tournament_selection( pop, pop_fitness, selection_size, tournament_size)\n",
    "        pop = pop[selected_indices]\n",
    "        pop_fitness = pop_fitness[selected_indices]\n",
    "\n",
    "        if details == True:\n",
    "            print(f'#Gen {i+1}:')\n",
    "            print(pop_fitness)  \n",
    "        if pop_fitness.max() == num_parameters:\n",
    "            break\n",
    "    \n",
    "    if details == True:\n",
    "        print('#Final result:')\n",
    "        print(pop)\n",
    "        print(pop_fitness)\n",
    "\n",
    "    if pop_fitness.max() == num_parameters:\n",
    "        return True, num_evaluations\n",
    "    else:\n",
    "        return False, num_evaluations"
   ]
  },
  {
   "cell_type": "code",
   "execution_count": 12,
   "metadata": {
    "colab": {
     "base_uri": "https://localhost:8080/"
    },
    "id": "_M6RxNZxxw8u",
    "outputId": "ac4f85cf-5da8-48e8-d1a3-a263b681445b"
   },
   "outputs": [
    {
     "name": "stdout",
     "output_type": "stream",
     "text": [
      "Original population:\n",
      "[[1 0 1 0 1 0 0 1]\n",
      " [0 1 0 0 0 1 0 1]\n",
      " [1 1 1 1 0 0 0 0]\n",
      " [1 1 1 1 1 0 1 1]\n",
      " [0 0 0 1 1 1 0 0]\n",
      " [0 1 0 1 0 0 0 1]\n",
      " [0 0 1 0 0 0 0 0]\n",
      " [0 1 1 0 0 1 1 0]\n",
      " [0 1 0 0 0 0 0 0]\n",
      " [1 0 1 0 0 1 1 0]\n",
      " [1 1 1 1 0 0 1 0]\n",
      " [1 0 1 0 1 1 1 0]\n",
      " [1 0 0 1 0 1 1 0]\n",
      " [1 0 1 0 1 1 1 1]\n",
      " [1 0 0 0 0 1 1 0]\n",
      " [1 0 1 1 0 0 0 0]]\n",
      "#Gen 0:\n",
      "[4 3 4 7 3 3 1 4 1 4 5 5 4 6 3 3]\n",
      "#Gen 1:\n",
      "[7 7 5 3 5 5 7 7 4 6 4 4 5 5 5 4]\n",
      "#Gen 2:\n",
      "[5 6 7 6 7 6 6 5 6 6 6 7 5 7 6 6]\n",
      "#Gen 3:\n",
      "[8 7 7 7 6 6 7 6 7 7 8 6 6 7 6 7]\n",
      "#Final result:\n",
      "[[1 1 1 1 1 1 1 1]\n",
      " [1 1 1 1 1 0 1 1]\n",
      " [1 1 1 1 1 0 1 1]\n",
      " [1 1 1 1 1 0 1 1]\n",
      " [1 1 1 1 0 0 1 1]\n",
      " [1 1 1 1 0 0 1 1]\n",
      " [1 1 1 1 1 0 1 1]\n",
      " [1 0 1 1 0 1 1 1]\n",
      " [1 1 1 1 1 0 1 1]\n",
      " [1 1 1 1 1 0 1 1]\n",
      " [1 1 1 1 1 1 1 1]\n",
      " [1 0 1 1 0 1 1 1]\n",
      " [1 1 1 1 0 0 1 1]\n",
      " [1 1 1 1 1 0 1 1]\n",
      " [1 0 1 1 0 1 1 1]\n",
      " [1 1 1 1 1 0 1 1]]\n",
      "[8 7 7 7 6 6 7 6 7 7 8 6 6 7 6 7]\n"
     ]
    },
    {
     "data": {
      "text/plain": [
       "(True, 64)"
      ]
     },
     "execution_count": 12,
     "metadata": {},
     "output_type": "execute_result"
    }
   ],
   "source": [
    "# Testing\n",
    "genetic_algorithm_POPOP(num_individuals=16, num_parameters=8, num_generations=20, \n",
    "                  crossover_type='UX', fitness_function=onemax, tournament_size=4, enable_mutation=False, \n",
    "                        random_seed=20520056, details=True)"
   ]
  },
  {
   "cell_type": "markdown",
   "metadata": {
    "id": "3ShnIH-p-jrt"
   },
   "source": [
    "# Genetic algorithm POPOP + Onemax"
   ]
  },
  {
   "cell_type": "code",
   "execution_count": 13,
   "metadata": {
    "id": "PO7odmJieACc"
   },
   "outputs": [],
   "source": [
    "problem_sizes_list = [10, 20, 40, 80, 160]\n",
    "num_repetitions = 10\n",
    "num_random_seeds = 10\n",
    "random_seed_0 = 20520056\n",
    "random_seeds_lists = [[id for id in range(seed, seed+10)] for seed in range(random_seed_0, random_seed_0+100, 10)]\n",
    "max_upper_bound = 8192\n",
    "max_num_generations = 50"
   ]
  },
  {
   "cell_type": "code",
   "execution_count": 21,
   "metadata": {
    "colab": {
     "base_uri": "https://localhost:8080/"
    },
    "id": "WeUoBAqd-oCI",
    "outputId": "cb11f422-5a95-4fd2-8423-75d2ea9c4848"
   },
   "outputs": [],
   "source": [
    "def calc_POPOPs(id_random_seeds_list=0, crossover_type='UX', fitness_function=onemax, tournament_size=4):\n",
    "    print('ID random seeds list:',id_random_seeds_list)\n",
    "    best_num_individuals_list = []\n",
    "    avg_num_evaluations_list = []\n",
    "\n",
    "    for num_parameters in problem_sizes_list:\n",
    "        print('#Num parameter:', num_parameters, end=' ------- ')\n",
    "        # Tìm upper_bound của num_individuals\n",
    "        upper_bound = 4\n",
    "        while upper_bound <= max_upper_bound:\n",
    "            success = True\n",
    "            for iter in range(num_repetitions):\n",
    "                cur_success, _ = genetic_algorithm_POPOP(num_individuals=upper_bound, num_parameters=num_parameters, num_generations=max_num_generations, \n",
    "                                                      crossover_type=crossover_type, fitness_function=fitness_function, tournament_size=tournament_size, \n",
    "                                                      enable_mutation=False, \n",
    "                                                      random_seed=random_seeds_lists[id_random_seeds_list][iter], details=False)\n",
    "                if cur_success == False:\n",
    "                    success = False        \n",
    "                    break\n",
    "                \n",
    "            if success == True:\n",
    "                break\n",
    "            else:\n",
    "                if upper_bound == max_upper_bound:\n",
    "                    upper_bound = -1\n",
    "                upper_bound *= 2\n",
    "        \n",
    "        # Kiểm tra giá trị cận trên > max_upper_bound ?\n",
    "        lower_bound = 0\n",
    "        if upper_bound == -1:\n",
    "            upper_bound = max_upper_bound\n",
    "            lower_bound = upper_bound\n",
    "        else:\n",
    "            lower_bound = upper_bound // 2\n",
    "\n",
    "        # Tìm num_individuals tốt nhất\n",
    "        while (upper_bound - lower_bound > 2) and ((upper_bound - lower_bound) / upper_bound > 0.1) :\n",
    "            middle = (lower_bound + upper_bound) // 2\n",
    "            if middle % 2 == 1:\n",
    "                middle += 1\n",
    "\n",
    "            success = True\n",
    "            for iter in range(num_repetitions):\n",
    "                cur_success, _ = genetic_algorithm_POPOP(num_individuals=middle, num_parameters=num_parameters, num_generations=max_num_generations, \n",
    "                                                      crossover_type=crossover_type, fitness_function=fitness_function, tournament_size=tournament_size, \n",
    "                                                      enable_mutation=False, \n",
    "                                                      random_seed=random_seeds_lists[id_random_seeds_list][iter], details=False)\n",
    "                if cur_success == False:\n",
    "                    success = False\n",
    "                    break\n",
    "            if success == True:\n",
    "                upper_bound = middle\n",
    "            else:\n",
    "                lower_bound = middle\n",
    "\n",
    "        print('The best number of individuals =', upper_bound, end=' ----------')\n",
    "        best_num_individuals_list.append(upper_bound)\n",
    "        \n",
    "        sum_num_evaluations = 0\n",
    "        for iter in range(num_repetitions):\n",
    "                _, num_evaluations = genetic_algorithm_POPOP(num_individuals=best_num_individuals_list[-1], num_parameters=num_parameters, num_generations=max_num_generations, \n",
    "                                                      crossover_type=crossover_type, fitness_function=fitness_function, tournament_size=tournament_size, \n",
    "                                                      enable_mutation=False, \n",
    "                                                      random_seed=random_seeds_lists[id_random_seeds_list][iter], details=False)\n",
    "                sum_num_evaluations += num_evaluations\n",
    "        avg_num_evaluations_list.append(sum_num_evaluations / num_repetitions)\n",
    "        print('The best number of evaluations =', avg_num_evaluations_list[-1])\n",
    "    \n",
    "    return best_num_individuals_list, avg_num_evaluations_list"
   ]
  },
  {
   "cell_type": "code",
   "execution_count": 23,
   "metadata": {
    "scrolled": true
   },
   "outputs": [],
   "source": [
    "def solve(crossover_type = '1X', fitness_function = onemax):\n",
    "    print(f'------------------- {crossover_type} + {fitness_function.__name__} ------------------')\n",
    "    path_output_file = f'D:\\Documents\\cs410\\Task2\\result_{fitness_function.__name__}_{crossover_type}.txt'\n",
    "    print('Result saves at:', path_output_file)\n",
    "    output_file = open(path_output_file, 'w')\n",
    "\n",
    "    for id_random_seeds_list in range(len(random_seeds_lists)):\n",
    "        print(id_random_seeds_list, file = output_file)\n",
    "        best_num_individuals_list, avg_num_evaluations_list = calc_POPOPs(id_random_seeds_list, crossover_type, fitness_function)\n",
    "        print(*best_num_individuals_list, file=output_file)\n",
    "        print(*avg_num_evaluations_list, file=output_file)\n",
    "\n",
    "    output_file.close()"
   ]
  },
  {
   "cell_type": "code",
   "execution_count": 24,
   "metadata": {
    "scrolled": false
   },
   "outputs": [
    {
     "name": "stdout",
     "output_type": "stream",
     "text": [
      "ID random seeds list: 0\n",
      "#Num parameter: 10 ------- The best number of individuals = 26 ----------The best number of evaluations = 117.0\n",
      "#Num parameter: 20 ------- The best number of individuals = 44 ----------The best number of evaluations = 321.2\n",
      "#Num parameter: 40 ------- The best number of individuals = 136 ----------The best number of evaluations = 1346.4\n",
      "#Num parameter: 80 ------- The best number of individuals = 160 ----------The best number of evaluations = 2688.0\n",
      "#Num parameter: 160 ------- The best number of individuals = 240 ----------The best number of evaluations = 5928.0\n"
     ]
    },
    {
     "data": {
      "text/plain": [
       "([26, 44, 136, 160, 240], [117.0, 321.2, 1346.4, 2688.0, 5928.0])"
      ]
     },
     "execution_count": 24,
     "metadata": {},
     "output_type": "execute_result"
    }
   ],
   "source": [
    "calc_POPOPs()"
   ]
  }
 ],
 "metadata": {
  "anaconda-cloud": {},
  "colab": {
   "collapsed_sections": [],
   "provenance": []
  },
  "kernelspec": {
   "display_name": "Python 3 (ipykernel)",
   "language": "python",
   "name": "python3"
  },
  "language_info": {
   "codemirror_mode": {
    "name": "ipython",
    "version": 3
   },
   "file_extension": ".py",
   "mimetype": "text/x-python",
   "name": "python",
   "nbconvert_exporter": "python",
   "pygments_lexer": "ipython3",
   "version": "3.9.13"
  }
 },
 "nbformat": 4,
 "nbformat_minor": 1
}
